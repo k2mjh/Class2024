{
  "cells": [
    {
      "cell_type": "markdown",
      "metadata": {
        "id": "view-in-github",
        "colab_type": "text"
      },
      "source": [
        "<a href=\"https://colab.research.google.com/github/k2mjh/Class2024/blob/main/crawling(selenium)2.ipynb\" target=\"_parent\"><img src=\"https://colab.research.google.com/assets/colab-badge.svg\" alt=\"Open In Colab\"/></a>"
      ]
    },
    {
      "cell_type": "code",
      "execution_count": null,
      "metadata": {
        "id": "FVqnz0tcAVFM"
      },
      "outputs": [],
      "source": [
        "!pip install selenium"
      ]
    },
    {
      "cell_type": "code",
      "execution_count": null,
      "metadata": {
        "id": "8xUALw60_lie"
      },
      "outputs": [],
      "source": [
        "from selenium import webdriver\n",
        "from selenium.webdriver.common.by import By\n",
        "\n",
        "URL = \"https://mdirect.lina.co.kr/product/insurance-product-cm/productView_P00176\"\n",
        "\n",
        "options = webdriver.ChromeOptions()\n",
        "options.add_argument(\" --headless\")\n",
        "options.add_argument(\" --disable-dev-shm-usage\")\n",
        "options.add_argument(\" --no-sandbox\")\n",
        "driver = webdriver.Chrome(options=options)\n",
        "driver.get(URL)\n",
        "print(driver.title)"
      ]
    },
    {
      "cell_type": "code",
      "source": [
        "el_dob = driver.find_element(By.CSS_SELECTOR, '#insurancePriceForm > form > div.el-form-item.form-group-xs.is-required > div > div > div > input')\n",
        "el_dob.send_keys('980305')\n",
        "\n",
        "el_gender = driver.find_element(By.CSS_SELECTOR, '#gender > span.el-radio__label')\n",
        "el_gender.click()\n",
        "\n",
        "overlapping_element = driver.find_element(By.CSS_SELECTOR, '#mktBnr')\n",
        "driver.execute_script(\"arguments[0].remove()\", overlapping_element)\n",
        "\n",
        "el_ok = driver.find_element(By.CSS_SELECTOR, '#insurancePriceForm > div > button')\n",
        "el_ok.click()"
      ],
      "metadata": {
        "id": "CBkkb7R4fNUe"
      },
      "execution_count": null,
      "outputs": []
    },
    {
      "cell_type": "code",
      "source": [
        "from bs4 import BeautifulSoup\n",
        "html = driver.page_source\n",
        "soup = BeautifulSoup(html, 'html.parser')\n",
        "premium = soup.select_one('#__layout > div> div.l-container > div> div > div.content> div.tab > div>button>span>p.price>span').get_text()\n",
        "premium\n",
        "\n",
        "driver.quit()"
      ],
      "metadata": {
        "id": "9BGmc7fMtCFL"
      },
      "execution_count": null,
      "outputs": []
    }
  ],
  "metadata": {
    "colab": {
      "provenance": [],
      "include_colab_link": true
    },
    "kernelspec": {
      "display_name": "Python 3",
      "name": "python3"
    },
    "language_info": {
      "codemirror_mode": {
        "name": "ipython",
        "version": 3
      },
      "file_extension": ".py",
      "mimetype": "text/x-python",
      "name": "python",
      "nbconvert_exporter": "python",
      "pygments_lexer": "ipython3",
      "version": "3.12.2"
    }
  },
  "nbformat": 4,
  "nbformat_minor": 0
}