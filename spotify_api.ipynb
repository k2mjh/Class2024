{
  "nbformat": 4,
  "nbformat_minor": 0,
  "metadata": {
    "colab": {
      "provenance": [],
      "include_colab_link": true
    },
    "kernelspec": {
      "name": "python3",
      "display_name": "Python 3"
    },
    "language_info": {
      "name": "python"
    }
  },
  "cells": [
    {
      "cell_type": "markdown",
      "metadata": {
        "id": "view-in-github",
        "colab_type": "text"
      },
      "source": [
        "<a href=\"https://colab.research.google.com/github/k2mjh/Class2024/blob/main/spotify_api.ipynb\" target=\"_parent\"><img src=\"https://colab.research.google.com/assets/colab-badge.svg\" alt=\"Open In Colab\"/></a>"
      ]
    },
    {
      "cell_type": "code",
      "execution_count": 2,
      "metadata": {
        "id": "t-NOmRKs2BxY",
        "outputId": "c979a7c4-8e0a-4156-b772-db0b8ed856de",
        "colab": {
          "base_uri": "https://localhost:8080/"
        }
      },
      "outputs": [
        {
          "output_type": "stream",
          "name": "stdout",
          "text": [
            "Requirement already satisfied: spotipy in /usr/local/lib/python3.10/dist-packages (2.23.0)\n",
            "Requirement already satisfied: redis>=3.5.3 in /usr/local/lib/python3.10/dist-packages (from spotipy) (5.0.3)\n",
            "Requirement already satisfied: requests>=2.25.0 in /usr/local/lib/python3.10/dist-packages (from spotipy) (2.31.0)\n",
            "Requirement already satisfied: six>=1.15.0 in /usr/local/lib/python3.10/dist-packages (from spotipy) (1.16.0)\n",
            "Requirement already satisfied: urllib3>=1.26.0 in /usr/local/lib/python3.10/dist-packages (from spotipy) (2.0.7)\n",
            "Requirement already satisfied: async-timeout>=4.0.3 in /usr/local/lib/python3.10/dist-packages (from redis>=3.5.3->spotipy) (4.0.3)\n",
            "Requirement already satisfied: charset-normalizer<4,>=2 in /usr/local/lib/python3.10/dist-packages (from requests>=2.25.0->spotipy) (3.3.2)\n",
            "Requirement already satisfied: idna<4,>=2.5 in /usr/local/lib/python3.10/dist-packages (from requests>=2.25.0->spotipy) (3.7)\n",
            "Requirement already satisfied: certifi>=2017.4.17 in /usr/local/lib/python3.10/dist-packages (from requests>=2.25.0->spotipy) (2024.2.2)\n"
          ]
        }
      ],
      "source": [
        "!pip install spotipy\n",
        "from spotipy.oauth2 import SpotifyClientCredentials\n",
        "import spotipy\n",
        "\n",
        "client_id = \"7426ebe2fd7e4aff8d7b22848f7707ad\"\n",
        "client_secret = \"00720b10de944651a8eefcf6d981f946\"\n",
        "\n",
        "client_credentials_manager = SpotifyClientCredentials(client_id=client_id, client_secret=client_secret)\n",
        "sp = spotipy.Spotify(client_credentials_manager=client_credentials_manager)"
      ]
    },
    {
      "cell_type": "code",
      "source": [
        "results = sp.search('coldplay', type='album', market  = 'us')\n",
        "results\n",
        "#type은 앞의 해당 검색어를 서칭할 카테고리를 말함; album, track, artist, etc.\n",
        "#API값에 접근하는 것이기 때문에 results값도 dict형태로, 위계적으로 제시함을 알 수 있음"
      ],
      "metadata": {
        "id": "I_Ix_Cej8pfM",
        "outputId": "20825f7b-b5dd-4fd2-87ca-325167ee00ed",
        "colab": {
          "base_uri": "https://localhost:8080/"
        }
      },
      "execution_count": 34,
      "outputs": [
        {
          "output_type": "execute_result",
          "data": {
            "text/plain": [
              "{'albums': {'href': 'https://api.spotify.com/v1/search?query=coldplay&type=album&market=US&offset=0&limit=10',\n",
              "  'items': [{'album_type': 'album',\n",
              "    'artists': [{'external_urls': {'spotify': 'https://open.spotify.com/artist/4gzpq5DPGxSnKTe4SA8HAU'},\n",
              "      'href': 'https://api.spotify.com/v1/artists/4gzpq5DPGxSnKTe4SA8HAU',\n",
              "      'id': '4gzpq5DPGxSnKTe4SA8HAU',\n",
              "      'name': 'Coldplay',\n",
              "      'type': 'artist',\n",
              "      'uri': 'spotify:artist:4gzpq5DPGxSnKTe4SA8HAU'}],\n",
              "    'external_urls': {'spotify': 'https://open.spotify.com/album/6ZG5lRT77aJ3btmArcykra'},\n",
              "    'href': 'https://api.spotify.com/v1/albums/6ZG5lRT77aJ3btmArcykra',\n",
              "    'id': '6ZG5lRT77aJ3btmArcykra',\n",
              "    'images': [{'height': 640,\n",
              "      'url': 'https://i.scdn.co/image/ab67616d0000b2733d92b2ad5af9fbc8637425f0',\n",
              "      'width': 640},\n",
              "     {'height': 300,\n",
              "      'url': 'https://i.scdn.co/image/ab67616d00001e023d92b2ad5af9fbc8637425f0',\n",
              "      'width': 300},\n",
              "     {'height': 64,\n",
              "      'url': 'https://i.scdn.co/image/ab67616d000048513d92b2ad5af9fbc8637425f0',\n",
              "      'width': 64}],\n",
              "    'is_playable': True,\n",
              "    'name': 'Parachutes',\n",
              "    'release_date': '2000-07-10',\n",
              "    'release_date_precision': 'day',\n",
              "    'total_tracks': 10,\n",
              "    'type': 'album',\n",
              "    'uri': 'spotify:album:6ZG5lRT77aJ3btmArcykra'},\n",
              "   {'album_type': 'single',\n",
              "    'artists': [{'external_urls': {'spotify': 'https://open.spotify.com/artist/4UMdMMSaFPJkjwbDOfbZwT'},\n",
              "      'href': 'https://api.spotify.com/v1/artists/4UMdMMSaFPJkjwbDOfbZwT',\n",
              "      'id': '4UMdMMSaFPJkjwbDOfbZwT',\n",
              "      'name': 'Ghost the Kid',\n",
              "      'type': 'artist',\n",
              "      'uri': 'spotify:artist:4UMdMMSaFPJkjwbDOfbZwT'}],\n",
              "    'external_urls': {'spotify': 'https://open.spotify.com/album/3jo5jz00PqwuGf7iWmSEK0'},\n",
              "    'href': 'https://api.spotify.com/v1/albums/3jo5jz00PqwuGf7iWmSEK0',\n",
              "    'id': '3jo5jz00PqwuGf7iWmSEK0',\n",
              "    'images': [{'height': 640,\n",
              "      'url': 'https://i.scdn.co/image/ab67616d0000b2733cd35a6626491329e73f4932',\n",
              "      'width': 640},\n",
              "     {'height': 300,\n",
              "      'url': 'https://i.scdn.co/image/ab67616d00001e023cd35a6626491329e73f4932',\n",
              "      'width': 300},\n",
              "     {'height': 64,\n",
              "      'url': 'https://i.scdn.co/image/ab67616d000048513cd35a6626491329e73f4932',\n",
              "      'width': 64}],\n",
              "    'is_playable': True,\n",
              "    'name': 'COLDPLAY',\n",
              "    'release_date': '2024-04-19',\n",
              "    'release_date_precision': 'day',\n",
              "    'total_tracks': 1,\n",
              "    'type': 'album',\n",
              "    'uri': 'spotify:album:3jo5jz00PqwuGf7iWmSEK0'},\n",
              "   {'album_type': 'album',\n",
              "    'artists': [{'external_urls': {'spotify': 'https://open.spotify.com/artist/4gzpq5DPGxSnKTe4SA8HAU'},\n",
              "      'href': 'https://api.spotify.com/v1/artists/4gzpq5DPGxSnKTe4SA8HAU',\n",
              "      'id': '4gzpq5DPGxSnKTe4SA8HAU',\n",
              "      'name': 'Coldplay',\n",
              "      'type': 'artist',\n",
              "      'uri': 'spotify:artist:4gzpq5DPGxSnKTe4SA8HAU'}],\n",
              "    'external_urls': {'spotify': 'https://open.spotify.com/album/0RHX9XECH8IVI3LNgWDpmQ'},\n",
              "    'href': 'https://api.spotify.com/v1/albums/0RHX9XECH8IVI3LNgWDpmQ',\n",
              "    'id': '0RHX9XECH8IVI3LNgWDpmQ',\n",
              "    'images': [{'height': 640,\n",
              "      'url': 'https://i.scdn.co/image/ab67616d0000b273de09e02aa7febf30b7c02d82',\n",
              "      'width': 640},\n",
              "     {'height': 300,\n",
              "      'url': 'https://i.scdn.co/image/ab67616d00001e02de09e02aa7febf30b7c02d82',\n",
              "      'width': 300},\n",
              "     {'height': 64,\n",
              "      'url': 'https://i.scdn.co/image/ab67616d00004851de09e02aa7febf30b7c02d82',\n",
              "      'width': 64}],\n",
              "    'is_playable': True,\n",
              "    'name': 'A Rush of Blood to the Head',\n",
              "    'release_date': '2002-08-08',\n",
              "    'release_date_precision': 'day',\n",
              "    'total_tracks': 11,\n",
              "    'type': 'album',\n",
              "    'uri': 'spotify:album:0RHX9XECH8IVI3LNgWDpmQ'},\n",
              "   {'album_type': 'album',\n",
              "    'artists': [{'external_urls': {'spotify': 'https://open.spotify.com/artist/4gzpq5DPGxSnKTe4SA8HAU'},\n",
              "      'href': 'https://api.spotify.com/v1/artists/4gzpq5DPGxSnKTe4SA8HAU',\n",
              "      'id': '4gzpq5DPGxSnKTe4SA8HAU',\n",
              "      'name': 'Coldplay',\n",
              "      'type': 'artist',\n",
              "      'uri': 'spotify:artist:4gzpq5DPGxSnKTe4SA8HAU'}],\n",
              "    'external_urls': {'spotify': 'https://open.spotify.com/album/4E7bV0pzG0LciBSWTszra6'},\n",
              "    'href': 'https://api.spotify.com/v1/albums/4E7bV0pzG0LciBSWTszra6',\n",
              "    'id': '4E7bV0pzG0LciBSWTszra6',\n",
              "    'images': [{'height': 640,\n",
              "      'url': 'https://i.scdn.co/image/ab67616d0000b2734e0362c225863f6ae2432651',\n",
              "      'width': 640},\n",
              "     {'height': 300,\n",
              "      'url': 'https://i.scdn.co/image/ab67616d00001e024e0362c225863f6ae2432651',\n",
              "      'width': 300},\n",
              "     {'height': 64,\n",
              "      'url': 'https://i.scdn.co/image/ab67616d000048514e0362c225863f6ae2432651',\n",
              "      'width': 64}],\n",
              "    'is_playable': True,\n",
              "    'name': 'X&Y',\n",
              "    'release_date': '2005-06-07',\n",
              "    'release_date_precision': 'day',\n",
              "    'total_tracks': 13,\n",
              "    'type': 'album',\n",
              "    'uri': 'spotify:album:4E7bV0pzG0LciBSWTszra6'},\n",
              "   {'album_type': 'album',\n",
              "    'artists': [{'external_urls': {'spotify': 'https://open.spotify.com/artist/4gzpq5DPGxSnKTe4SA8HAU'},\n",
              "      'href': 'https://api.spotify.com/v1/artists/4gzpq5DPGxSnKTe4SA8HAU',\n",
              "      'id': '4gzpq5DPGxSnKTe4SA8HAU',\n",
              "      'name': 'Coldplay',\n",
              "      'type': 'artist',\n",
              "      'uri': 'spotify:artist:4gzpq5DPGxSnKTe4SA8HAU'}],\n",
              "    'external_urls': {'spotify': 'https://open.spotify.com/album/2G4AUqfwxcV1UdQjm2ouYr'},\n",
              "    'href': 'https://api.spotify.com/v1/albums/2G4AUqfwxcV1UdQjm2ouYr',\n",
              "    'id': '2G4AUqfwxcV1UdQjm2ouYr',\n",
              "    'images': [{'height': 640,\n",
              "      'url': 'https://i.scdn.co/image/ab67616d0000b273e5a95573f1b91234630fd2cf',\n",
              "      'width': 640},\n",
              "     {'height': 300,\n",
              "      'url': 'https://i.scdn.co/image/ab67616d00001e02e5a95573f1b91234630fd2cf',\n",
              "      'width': 300},\n",
              "     {'height': 64,\n",
              "      'url': 'https://i.scdn.co/image/ab67616d00004851e5a95573f1b91234630fd2cf',\n",
              "      'width': 64}],\n",
              "    'is_playable': True,\n",
              "    'name': 'Ghost Stories',\n",
              "    'release_date': '2014-05-19',\n",
              "    'release_date_precision': 'day',\n",
              "    'total_tracks': 9,\n",
              "    'type': 'album',\n",
              "    'uri': 'spotify:album:2G4AUqfwxcV1UdQjm2ouYr'},\n",
              "   {'album_type': 'album',\n",
              "    'artists': [{'external_urls': {'spotify': 'https://open.spotify.com/artist/4gzpq5DPGxSnKTe4SA8HAU'},\n",
              "      'href': 'https://api.spotify.com/v1/artists/4gzpq5DPGxSnKTe4SA8HAU',\n",
              "      'id': '4gzpq5DPGxSnKTe4SA8HAU',\n",
              "      'name': 'Coldplay',\n",
              "      'type': 'artist',\n",
              "      'uri': 'spotify:artist:4gzpq5DPGxSnKTe4SA8HAU'}],\n",
              "    'external_urls': {'spotify': 'https://open.spotify.com/album/19CvkGjYpifkdwgVJSbog2'},\n",
              "    'href': 'https://api.spotify.com/v1/albums/19CvkGjYpifkdwgVJSbog2',\n",
              "    'id': '19CvkGjYpifkdwgVJSbog2',\n",
              "    'images': [{'height': 640,\n",
              "      'url': 'https://i.scdn.co/image/ab67616d0000b273fe5f1f4d742869a253036971',\n",
              "      'width': 640},\n",
              "     {'height': 300,\n",
              "      'url': 'https://i.scdn.co/image/ab67616d00001e02fe5f1f4d742869a253036971',\n",
              "      'width': 300},\n",
              "     {'height': 64,\n",
              "      'url': 'https://i.scdn.co/image/ab67616d00004851fe5f1f4d742869a253036971',\n",
              "      'width': 64}],\n",
              "    'is_playable': True,\n",
              "    'name': 'Live in Buenos Aires',\n",
              "    'release_date': '2018-12-07',\n",
              "    'release_date_precision': 'day',\n",
              "    'total_tracks': 24,\n",
              "    'type': 'album',\n",
              "    'uri': 'spotify:album:19CvkGjYpifkdwgVJSbog2'},\n",
              "   {'album_type': 'album',\n",
              "    'artists': [{'external_urls': {'spotify': 'https://open.spotify.com/artist/4gzpq5DPGxSnKTe4SA8HAU'},\n",
              "      'href': 'https://api.spotify.com/v1/artists/4gzpq5DPGxSnKTe4SA8HAU',\n",
              "      'id': '4gzpq5DPGxSnKTe4SA8HAU',\n",
              "      'name': 'Coldplay',\n",
              "      'type': 'artist',\n",
              "      'uri': 'spotify:artist:4gzpq5DPGxSnKTe4SA8HAU'}],\n",
              "    'external_urls': {'spotify': 'https://open.spotify.com/album/2R7iJz5uaHjLEVnMkloO18'},\n",
              "    'href': 'https://api.spotify.com/v1/albums/2R7iJz5uaHjLEVnMkloO18',\n",
              "    'id': '2R7iJz5uaHjLEVnMkloO18',\n",
              "    'images': [{'height': 640,\n",
              "      'url': 'https://i.scdn.co/image/ab67616d0000b273de0cd11d7b31c3bd1fd5983d',\n",
              "      'width': 640},\n",
              "     {'height': 300,\n",
              "      'url': 'https://i.scdn.co/image/ab67616d00001e02de0cd11d7b31c3bd1fd5983d',\n",
              "      'width': 300},\n",
              "     {'height': 64,\n",
              "      'url': 'https://i.scdn.co/image/ab67616d00004851de0cd11d7b31c3bd1fd5983d',\n",
              "      'width': 64}],\n",
              "    'is_playable': True,\n",
              "    'name': 'Mylo Xyloto',\n",
              "    'release_date': '2011-10-24',\n",
              "    'release_date_precision': 'day',\n",
              "    'total_tracks': 14,\n",
              "    'type': 'album',\n",
              "    'uri': 'spotify:album:2R7iJz5uaHjLEVnMkloO18'},\n",
              "   {'album_type': 'album',\n",
              "    'artists': [{'external_urls': {'spotify': 'https://open.spotify.com/artist/4gzpq5DPGxSnKTe4SA8HAU'},\n",
              "      'href': 'https://api.spotify.com/v1/artists/4gzpq5DPGxSnKTe4SA8HAU',\n",
              "      'id': '4gzpq5DPGxSnKTe4SA8HAU',\n",
              "      'name': 'Coldplay',\n",
              "      'type': 'artist',\n",
              "      'uri': 'spotify:artist:4gzpq5DPGxSnKTe4SA8HAU'}],\n",
              "    'external_urls': {'spotify': 'https://open.spotify.com/album/1CEODgTmTwLyabvwd7HBty'},\n",
              "    'href': 'https://api.spotify.com/v1/albums/1CEODgTmTwLyabvwd7HBty',\n",
              "    'id': '1CEODgTmTwLyabvwd7HBty',\n",
              "    'images': [{'height': 640,\n",
              "      'url': 'https://i.scdn.co/image/ab67616d0000b273e21cc1db05580b6f2d2a3b6e',\n",
              "      'width': 640},\n",
              "     {'height': 300,\n",
              "      'url': 'https://i.scdn.co/image/ab67616d00001e02e21cc1db05580b6f2d2a3b6e',\n",
              "      'width': 300},\n",
              "     {'height': 64,\n",
              "      'url': 'https://i.scdn.co/image/ab67616d00004851e21cc1db05580b6f2d2a3b6e',\n",
              "      'width': 64}],\n",
              "    'is_playable': True,\n",
              "    'name': 'Viva La Vida or Death and All His Friends',\n",
              "    'release_date': '2008-05-26',\n",
              "    'release_date_precision': 'day',\n",
              "    'total_tracks': 10,\n",
              "    'type': 'album',\n",
              "    'uri': 'spotify:album:1CEODgTmTwLyabvwd7HBty'},\n",
              "   {'album_type': 'album',\n",
              "    'artists': [{'external_urls': {'spotify': 'https://open.spotify.com/artist/4gzpq5DPGxSnKTe4SA8HAU'},\n",
              "      'href': 'https://api.spotify.com/v1/artists/4gzpq5DPGxSnKTe4SA8HAU',\n",
              "      'id': '4gzpq5DPGxSnKTe4SA8HAU',\n",
              "      'name': 'Coldplay',\n",
              "      'type': 'artist',\n",
              "      'uri': 'spotify:artist:4gzpq5DPGxSnKTe4SA8HAU'}],\n",
              "    'external_urls': {'spotify': 'https://open.spotify.com/album/3cfAM8b8KqJRoIzt3zLKqw'},\n",
              "    'href': 'https://api.spotify.com/v1/albums/3cfAM8b8KqJRoIzt3zLKqw',\n",
              "    'id': '3cfAM8b8KqJRoIzt3zLKqw',\n",
              "    'images': [{'height': 640,\n",
              "      'url': 'https://i.scdn.co/image/ab67616d0000b2738ff7c3580d429c8212b9a3b6',\n",
              "      'width': 640},\n",
              "     {'height': 300,\n",
              "      'url': 'https://i.scdn.co/image/ab67616d00001e028ff7c3580d429c8212b9a3b6',\n",
              "      'width': 300},\n",
              "     {'height': 64,\n",
              "      'url': 'https://i.scdn.co/image/ab67616d000048518ff7c3580d429c8212b9a3b6',\n",
              "      'width': 64}],\n",
              "    'is_playable': True,\n",
              "    'name': 'A Head Full of Dreams',\n",
              "    'release_date': '2015-12-04',\n",
              "    'release_date_precision': 'day',\n",
              "    'total_tracks': 11,\n",
              "    'type': 'album',\n",
              "    'uri': 'spotify:album:3cfAM8b8KqJRoIzt3zLKqw'},\n",
              "   {'album_type': 'album',\n",
              "    'artists': [{'external_urls': {'spotify': 'https://open.spotify.com/artist/4gzpq5DPGxSnKTe4SA8HAU'},\n",
              "      'href': 'https://api.spotify.com/v1/artists/4gzpq5DPGxSnKTe4SA8HAU',\n",
              "      'id': '4gzpq5DPGxSnKTe4SA8HAU',\n",
              "      'name': 'Coldplay',\n",
              "      'type': 'artist',\n",
              "      'uri': 'spotify:artist:4gzpq5DPGxSnKTe4SA8HAU'}],\n",
              "    'external_urls': {'spotify': 'https://open.spotify.com/album/4XTT0NcNHyvl6h9JX2AfEi'},\n",
              "    'href': 'https://api.spotify.com/v1/albums/4XTT0NcNHyvl6h9JX2AfEi',\n",
              "    'id': '4XTT0NcNHyvl6h9JX2AfEi',\n",
              "    'images': [{'height': 640,\n",
              "      'url': 'https://i.scdn.co/image/ab67616d0000b2730de348af6c3e533f24c99472',\n",
              "      'width': 640},\n",
              "     {'height': 300,\n",
              "      'url': 'https://i.scdn.co/image/ab67616d00001e020de348af6c3e533f24c99472',\n",
              "      'width': 300},\n",
              "     {'height': 64,\n",
              "      'url': 'https://i.scdn.co/image/ab67616d000048510de348af6c3e533f24c99472',\n",
              "      'width': 64}],\n",
              "    'is_playable': True,\n",
              "    'name': \"Viva La Vida (Prospekt's March Edition)\",\n",
              "    'release_date': '2008-11-24',\n",
              "    'release_date_precision': 'day',\n",
              "    'total_tracks': 18,\n",
              "    'type': 'album',\n",
              "    'uri': 'spotify:album:4XTT0NcNHyvl6h9JX2AfEi'}],\n",
              "  'limit': 10,\n",
              "  'next': 'https://api.spotify.com/v1/search?query=coldplay&type=album&market=US&offset=10&limit=10',\n",
              "  'offset': 0,\n",
              "  'previous': None,\n",
              "  'total': 243}}"
            ]
          },
          "metadata": {},
          "execution_count": 34
        }
      ]
    },
    {
      "cell_type": "code",
      "source": [
        "print(results.keys()) #dict가 key와 value 값으로 구성되고 이는 최상단(위계상)의 key값만 산출\n",
        "print(results['albums'].keys()) #최상단key의 value를 요청, 그 안의 key들을 물어본 것\n",
        "print(results['albums']['items'][0]) #results['albums']['items']의 결과는 list로 제시되기 때문에 첫번째 아이템만 보려면 리스트 문법\n",
        "uri = results['albums']['items'][0]['uri']\n",
        "uri #앨범의 id 번호에 해당함"
      ],
      "metadata": {
        "id": "evGYfVQLDMCq",
        "outputId": "edf97194-c139-41b4-866f-002c165ebc29",
        "colab": {
          "base_uri": "https://localhost:8080/",
          "height": 106
        }
      },
      "execution_count": 38,
      "outputs": [
        {
          "output_type": "stream",
          "name": "stdout",
          "text": [
            "dict_keys(['albums'])\n",
            "dict_keys(['href', 'items', 'limit', 'next', 'offset', 'previous', 'total'])\n",
            "{'album_type': 'album', 'artists': [{'external_urls': {'spotify': 'https://open.spotify.com/artist/4gzpq5DPGxSnKTe4SA8HAU'}, 'href': 'https://api.spotify.com/v1/artists/4gzpq5DPGxSnKTe4SA8HAU', 'id': '4gzpq5DPGxSnKTe4SA8HAU', 'name': 'Coldplay', 'type': 'artist', 'uri': 'spotify:artist:4gzpq5DPGxSnKTe4SA8HAU'}], 'external_urls': {'spotify': 'https://open.spotify.com/album/6ZG5lRT77aJ3btmArcykra'}, 'href': 'https://api.spotify.com/v1/albums/6ZG5lRT77aJ3btmArcykra', 'id': '6ZG5lRT77aJ3btmArcykra', 'images': [{'height': 640, 'url': 'https://i.scdn.co/image/ab67616d0000b2733d92b2ad5af9fbc8637425f0', 'width': 640}, {'height': 300, 'url': 'https://i.scdn.co/image/ab67616d00001e023d92b2ad5af9fbc8637425f0', 'width': 300}, {'height': 64, 'url': 'https://i.scdn.co/image/ab67616d000048513d92b2ad5af9fbc8637425f0', 'width': 64}], 'is_playable': True, 'name': 'Parachutes', 'release_date': '2000-07-10', 'release_date_precision': 'day', 'total_tracks': 10, 'type': 'album', 'uri': 'spotify:album:6ZG5lRT77aJ3btmArcykra'}\n"
          ]
        },
        {
          "output_type": "execute_result",
          "data": {
            "text/plain": [
              "'spotify:album:6ZG5lRT77aJ3btmArcykra'"
            ],
            "application/vnd.google.colaboratory.intrinsic+json": {
              "type": "string"
            }
          },
          "metadata": {},
          "execution_count": 38
        }
      ]
    },
    {
      "cell_type": "code",
      "source": [
        "results = sp.album(uri, market  = 'us')\n",
        "print(results.keys())\n",
        "print(results['tracks']['items'][0])\n",
        "print(results['tracks']['items'][0]['name'])\n",
        "print(results['tracks']['items'][0]['preview_url'])\n",
        "uri = results['tracks']['items'][0]['uri'] #여기서는 track의 id임"
      ],
      "metadata": {
        "id": "SebOK7DPCyAP",
        "outputId": "e09ffb77-def7-4576-b35b-00f96184a54f",
        "colab": {
          "base_uri": "https://localhost:8080/"
        }
      },
      "execution_count": 39,
      "outputs": [
        {
          "output_type": "stream",
          "name": "stdout",
          "text": [
            "dict_keys(['album_type', 'artists', 'copyrights', 'external_ids', 'external_urls', 'genres', 'href', 'id', 'images', 'is_playable', 'label', 'name', 'popularity', 'release_date', 'release_date_precision', 'total_tracks', 'tracks', 'type', 'uri'])\n",
            "{'artists': [{'external_urls': {'spotify': 'https://open.spotify.com/artist/4gzpq5DPGxSnKTe4SA8HAU'}, 'href': 'https://api.spotify.com/v1/artists/4gzpq5DPGxSnKTe4SA8HAU', 'id': '4gzpq5DPGxSnKTe4SA8HAU', 'name': 'Coldplay', 'type': 'artist', 'uri': 'spotify:artist:4gzpq5DPGxSnKTe4SA8HAU'}], 'disc_number': 1, 'duration_ms': 136866, 'explicit': False, 'external_urls': {'spotify': 'https://open.spotify.com/track/2QhURnm7mQDxBb5jWkbDug'}, 'href': 'https://api.spotify.com/v1/tracks/2QhURnm7mQDxBb5jWkbDug', 'id': '2QhURnm7mQDxBb5jWkbDug', 'is_local': False, 'is_playable': True, 'name': \"Don't Panic\", 'preview_url': 'https://p.scdn.co/mp3-preview/c7db43ba594e878a6471341da462fbbe8eb96e42?cid=7426ebe2fd7e4aff8d7b22848f7707ad', 'track_number': 1, 'type': 'track', 'uri': 'spotify:track:2QhURnm7mQDxBb5jWkbDug'}\n",
            "Don't Panic\n",
            "https://p.scdn.co/mp3-preview/c7db43ba594e878a6471341da462fbbe8eb96e42?cid=7426ebe2fd7e4aff8d7b22848f7707ad\n"
          ]
        }
      ]
    },
    {
      "cell_type": "code",
      "source": [
        "results = sp.audio_analysis(uri)\n",
        "print(results.keys())\n",
        "results['meta']"
      ],
      "metadata": {
        "id": "Urwp5wGj9eqL",
        "outputId": "6e7d15f9-38db-4795-ebb0-7a9efacf3fca",
        "colab": {
          "base_uri": "https://localhost:8080/"
        }
      },
      "execution_count": 44,
      "outputs": [
        {
          "output_type": "stream",
          "name": "stdout",
          "text": [
            "dict_keys(['meta', 'track', 'bars', 'beats', 'sections', 'segments', 'tatums'])\n"
          ]
        },
        {
          "output_type": "execute_result",
          "data": {
            "text/plain": [
              "{'analyzer_version': '4.0.0',\n",
              " 'platform': 'Linux',\n",
              " 'detailed_status': 'OK',\n",
              " 'status_code': 0,\n",
              " 'timestamp': 1604529316,\n",
              " 'analysis_time': 5.69552,\n",
              " 'input_process': 'libvorbisfile L+R 44100->22050'}"
            ]
          },
          "metadata": {},
          "execution_count": 44
        }
      ]
    },
    {
      "cell_type": "code",
      "source": [
        "results = sp.audio_features(uri)\n",
        "results"
      ],
      "metadata": {
        "id": "BKpQU_yv_XNy",
        "outputId": "fd6a8119-b833-42ba-d20c-37b6b0fe9bd9",
        "colab": {
          "base_uri": "https://localhost:8080/"
        }
      },
      "execution_count": 45,
      "outputs": [
        {
          "output_type": "execute_result",
          "data": {
            "text/plain": [
              "[{'danceability': 0.602,\n",
              "  'energy': 0.612,\n",
              "  'key': 0,\n",
              "  'loudness': -8.409,\n",
              "  'mode': 1,\n",
              "  'speechiness': 0.0335,\n",
              "  'acousticness': 0.206,\n",
              "  'instrumentalness': 0.00607,\n",
              "  'liveness': 0.107,\n",
              "  'valence': 0.453,\n",
              "  'tempo': 122.062,\n",
              "  'type': 'audio_features',\n",
              "  'id': '2QhURnm7mQDxBb5jWkbDug',\n",
              "  'uri': 'spotify:track:2QhURnm7mQDxBb5jWkbDug',\n",
              "  'track_href': 'https://api.spotify.com/v1/tracks/2QhURnm7mQDxBb5jWkbDug',\n",
              "  'analysis_url': 'https://api.spotify.com/v1/audio-analysis/2QhURnm7mQDxBb5jWkbDug',\n",
              "  'duration_ms': 136867,\n",
              "  'time_signature': 4}]"
            ]
          },
          "metadata": {},
          "execution_count": 45
        }
      ]
    },
    {
      "cell_type": "code",
      "source": [
        "results = sp.search('coldplay', type = 'artist')\n",
        "print(results.keys())\n",
        "print(results['artists']['items'][0]['uri'])\n",
        "uri = results['artists']['items'][0]['uri']"
      ],
      "metadata": {
        "id": "d0DkUfnxD2Ul",
        "outputId": "4177e60d-e9cc-42db-c00c-70fb199cb362",
        "colab": {
          "base_uri": "https://localhost:8080/"
        }
      },
      "execution_count": 46,
      "outputs": [
        {
          "output_type": "stream",
          "name": "stdout",
          "text": [
            "dict_keys(['artists'])\n",
            "spotify:artist:4gzpq5DPGxSnKTe4SA8HAU\n"
          ]
        }
      ]
    },
    {
      "cell_type": "code",
      "source": [
        "results = sp.artist_top_tracks(uri)\n",
        "for track in results['tracks'][:5]:\n",
        "    print('track    : ' + track['name'])\n",
        "    print('audio    : ' + track['preview_url'])\n",
        "    print('cover art: ' + track['album']['images'][0]['url'])\n",
        "    print()"
      ],
      "metadata": {
        "id": "7RJp3n7JSTGh",
        "outputId": "bdb948a8-fc92-42dd-a607-a37dd916256e",
        "colab": {
          "base_uri": "https://localhost:8080/"
        }
      },
      "execution_count": 47,
      "outputs": [
        {
          "output_type": "stream",
          "name": "stdout",
          "text": [
            "track    : Yellow\n",
            "audio    : https://p.scdn.co/mp3-preview/c0d9119dc69cae75baf6463e21e43f433fdf5ff4?cid=7426ebe2fd7e4aff8d7b22848f7707ad\n",
            "cover art: https://i.scdn.co/image/ab67616d0000b2733d92b2ad5af9fbc8637425f0\n",
            "\n",
            "track    : Viva La Vida\n",
            "audio    : https://p.scdn.co/mp3-preview/fb9f4a9b0887326776b4fb7c6d331acd167a7778?cid=7426ebe2fd7e4aff8d7b22848f7707ad\n",
            "cover art: https://i.scdn.co/image/ab67616d0000b273e21cc1db05580b6f2d2a3b6e\n",
            "\n",
            "track    : Something Just Like This\n",
            "audio    : https://p.scdn.co/mp3-preview/4e117abe76700eb13e9e0557fa2d9c44b565b9da?cid=7426ebe2fd7e4aff8d7b22848f7707ad\n",
            "cover art: https://i.scdn.co/image/ab67616d0000b2730c13d3d5a503c84fcc60ae94\n",
            "\n",
            "track    : Sparks\n",
            "audio    : https://p.scdn.co/mp3-preview/4ffce9684e191005c15ab6ce31540fcec78eaacf?cid=7426ebe2fd7e4aff8d7b22848f7707ad\n",
            "cover art: https://i.scdn.co/image/ab67616d0000b2733d92b2ad5af9fbc8637425f0\n",
            "\n",
            "track    : The Scientist\n",
            "audio    : https://p.scdn.co/mp3-preview/cb283ce76eeee06a724b942d36a140cc088dd50f?cid=7426ebe2fd7e4aff8d7b22848f7707ad\n",
            "cover art: https://i.scdn.co/image/ab67616d0000b273de09e02aa7febf30b7c02d82\n",
            "\n"
          ]
        }
      ]
    },
    {
      "cell_type": "code",
      "source": [
        "results = sp.artist_albums(uri)\n",
        "print(results.keys())\n",
        "print(results['items'][0]['uri'])\n",
        "uri = results['items'][0]['uri']"
      ],
      "metadata": {
        "id": "xLZDJXg0XmOC",
        "outputId": "7c5b0aa0-1775-4ac0-85ff-fe803f79b636",
        "colab": {
          "base_uri": "https://localhost:8080/"
        }
      },
      "execution_count": 48,
      "outputs": [
        {
          "output_type": "stream",
          "name": "stdout",
          "text": [
            "dict_keys(['href', 'items', 'limit', 'next', 'offset', 'previous', 'total'])\n",
            "spotify:album:06mXfvDsRZNfnsGZvX2zpb\n"
          ]
        }
      ]
    },
    {
      "cell_type": "code",
      "source": [
        "results = sp.album(uri)\n",
        "print(results.keys())\n",
        "print(results['name'])"
      ],
      "metadata": {
        "id": "NwR2A8tiozKU"
      },
      "execution_count": null,
      "outputs": []
    }
  ]
}