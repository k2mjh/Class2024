{
  "nbformat": 4,
  "nbformat_minor": 0,
  "metadata": {
    "kernelspec": {
      "display_name": "Python 3",
      "language": "python",
      "name": "python3"
    },
    "language_info": {
      "codemirror_mode": {
        "name": "ipython",
        "version": 3
      },
      "file_extension": ".py",
      "mimetype": "text/x-python",
      "name": "python",
      "nbconvert_exporter": "python",
      "pygments_lexer": "ipython3",
      "version": "3.7.1"
    },
    "colab": {
      "provenance": []
    }
  },
  "cells": [
    {
      "cell_type": "markdown",
      "metadata": {
        "id": "JcCdLoe_4bY7"
      },
      "source": [
        "### create nd arrays (≈matrices)"
      ]
    },
    {
      "cell_type": "code",
      "metadata": {
        "id": "5ap7xyofShBB"
      },
      "source": [
        "import numpy as np"
      ],
      "execution_count": null,
      "outputs": []
    },
    {
      "cell_type": "code",
      "source": [
        "np.array([1,2,3])+1 #그냥 [1,2,3]+1은 오류 발생"
      ],
      "metadata": {
        "colab": {
          "base_uri": "https://localhost:8080/"
        },
        "id": "_EBjs9dSzH7u",
        "outputId": "23f589c8-f337-460d-ff15-c8e232c13989"
      },
      "execution_count": null,
      "outputs": [
        {
          "output_type": "execute_result",
          "data": {
            "text/plain": [
              "array([2, 3, 4])"
            ]
          },
          "metadata": {},
          "execution_count": 3
        }
      ]
    },
    {
      "cell_type": "code",
      "metadata": {
        "id": "2rqpSPZCShBC",
        "colab": {
          "base_uri": "https://localhost:8080/"
        },
        "outputId": "3ce42c76-26b5-4c3f-b8a1-df1baa604488"
      },
      "source": [
        "x = np.array([1,2,3])\n",
        "print(x)\n",
        "print(type(x))\n",
        "print(x.shape)"
      ],
      "execution_count": null,
      "outputs": [
        {
          "output_type": "stream",
          "name": "stdout",
          "text": [
            "[1 2 3]\n",
            "<class 'numpy.ndarray'>\n",
            "(3,)\n"
          ]
        }
      ]
    },
    {
      "cell_type": "code",
      "metadata": {
        "id": "EjC88C75ShBC",
        "colab": {
          "base_uri": "https://localhost:8080/"
        },
        "outputId": "7143e4dd-2864-4b57-855e-56eb92a6bd75"
      },
      "source": [
        "x = np.arange(0,10,2) #0부터 10보다 작게 2만큼 inclement한 값을 내라\n",
        "print(x)\n",
        "print(type(x))\n",
        "print(x.shape) #1차원이고 숫자가 5개임을 의미"
      ],
      "execution_count": null,
      "outputs": [
        {
          "output_type": "stream",
          "name": "stdout",
          "text": [
            "[0 2 4 6 8]\n",
            "<class 'numpy.ndarray'>\n",
            "(5,)\n"
          ]
        }
      ]
    },
    {
      "cell_type": "code",
      "metadata": {
        "id": "-MwkCEjTShBC",
        "colab": {
          "base_uri": "https://localhost:8080/"
        },
        "outputId": "11427674-886c-4f82-ca48-a1465f53223e"
      },
      "source": [
        "x = np.linspace(0,10,6) #linspace는 10까지 포함하는 범위를 의미함\n",
        "print(x)\n",
        "print(type(x))\n",
        "print(x.shape)"
      ],
      "execution_count": null,
      "outputs": [
        {
          "output_type": "stream",
          "name": "stdout",
          "text": [
            "[ 0.  2.  4.  6.  8. 10.]\n",
            "<class 'numpy.ndarray'>\n",
            "(6,)\n"
          ]
        }
      ]
    },
    {
      "cell_type": "code",
      "source": [
        "[[1,2,3],[4,5,6]] #List이기 때문에 지금 이 상태로는 계산이 불가함"
      ],
      "metadata": {
        "id": "i5ov4uWO0TIe"
      },
      "execution_count": null,
      "outputs": []
    },
    {
      "cell_type": "code",
      "metadata": {
        "id": "tjk79SQ27fNv",
        "colab": {
          "base_uri": "https://localhost:8080/"
        },
        "outputId": "3ff3368b-6bb1-4664-933e-8504613780b1"
      },
      "source": [
        "x = np.array([[1,2,3], [4,5,6]]) #List를 숫자처리 가능한 숫자로 바꿔줌\n",
        "print(x)\n",
        "print(type(x))\n",
        "print(x.shape) #2개의 row, 3개의 colum을 가진 matrix임"
      ],
      "execution_count": null,
      "outputs": [
        {
          "output_type": "stream",
          "name": "stdout",
          "text": [
            "[[1 2 3]\n",
            " [4 5 6]]\n",
            "<class 'numpy.ndarray'>\n",
            "(2, 3)\n"
          ]
        }
      ]
    },
    {
      "cell_type": "code",
      "metadata": {
        "id": "C1ogg6iZ7yir",
        "colab": {
          "base_uri": "https://localhost:8080/"
        },
        "outputId": "baf27f4e-10a7-40bb-82f4-bf470d8de90c"
      },
      "source": [
        "x = np.array([[[1,2,3], [4,5,6]], [[7,8,9], [10,11,12]]]) #대괄호 3개이니 3차원일 것이라 예측 가능\n",
        "print(x)\n",
        "print(type(x))\n",
        "print(x.shape)"
      ],
      "execution_count": null,
      "outputs": [
        {
          "output_type": "stream",
          "name": "stdout",
          "text": [
            "[[[ 1  2  3]\n",
            "  [ 4  5  6]]\n",
            "\n",
            " [[ 7  8  9]\n",
            "  [10 11 12]]]\n",
            "<class 'numpy.ndarray'>\n",
            "(2, 2, 3)\n"
          ]
        }
      ]
    },
    {
      "cell_type": "code",
      "metadata": {
        "id": "efgeNHtD8ZlT",
        "colab": {
          "base_uri": "https://localhost:8080/"
        },
        "outputId": "047fb9dd-8c90-4dbf-9f12-35123bed1052"
      },
      "source": [
        "x = np.ones([2, 2, 3]) #1로만 가득 찬 M를 만드는데, 2는 큰 두 덩어리 2는 두 줄씩, 3은 3개씩을 의미\n",
        "print(x)\n",
        "print(type(x))\n",
        "print(x.shape)"
      ],
      "execution_count": null,
      "outputs": [
        {
          "output_type": "stream",
          "name": "stdout",
          "text": [
            "[[[1. 1. 1.]\n",
            "  [1. 1. 1.]]\n",
            "\n",
            " [[1. 1. 1.]\n",
            "  [1. 1. 1.]]]\n",
            "<class 'numpy.ndarray'>\n",
            "(2, 2, 3)\n"
          ]
        }
      ]
    },
    {
      "cell_type": "code",
      "metadata": {
        "id": "b_F-ccY08zzl",
        "colab": {
          "base_uri": "https://localhost:8080/"
        },
        "outputId": "d56dd759-bbd1-48d5-d208-4a2084fe1cec"
      },
      "source": [
        "x = np.zeros([2, 2, 3])\n",
        "print(x)\n",
        "print(type(x))\n",
        "print(x.shape)\n",
        "x.reshape(3,2,2) #아주 자주 쓰이는 함수임; 숫자의 개수는 동일하고 차원의 형태만 바꾸는 식, 차원의 수가 줄어도 ㄱㅊ (3,4) 또는 (12) ..."
      ],
      "execution_count": null,
      "outputs": [
        {
          "output_type": "stream",
          "name": "stdout",
          "text": [
            "[[[0. 0. 0.]\n",
            "  [0. 0. 0.]]\n",
            "\n",
            " [[0. 0. 0.]\n",
            "  [0. 0. 0.]]]\n",
            "<class 'numpy.ndarray'>\n",
            "(2, 2, 3)\n"
          ]
        },
        {
          "output_type": "execute_result",
          "data": {
            "text/plain": [
              "array([[[0., 0.],\n",
              "        [0., 0.]],\n",
              "\n",
              "       [[0., 0.],\n",
              "        [0., 0.]],\n",
              "\n",
              "       [[0., 0.],\n",
              "        [0., 0.]]])"
            ]
          },
          "metadata": {},
          "execution_count": 27
        }
      ]
    },
    {
      "cell_type": "markdown",
      "metadata": {
        "id": "0hQuDJ5g9gpE"
      },
      "source": [
        "### create random numbers"
      ]
    },
    {
      "cell_type": "code",
      "source": [
        "np.random.normal(0, 1, [2,3,4]) #표준정규분포를 따른다는 의미에서 0,1을 뒤에는 [2,3,4]의 형태를 따르는 nd array를 만들라는 의미임"
      ],
      "metadata": {
        "id": "pCVnElBgan70",
        "outputId": "b06de733-6380-4b28-870b-61ddb453ad8a",
        "colab": {
          "base_uri": "https://localhost:8080/"
        }
      },
      "execution_count": null,
      "outputs": [
        {
          "output_type": "execute_result",
          "data": {
            "text/plain": [
              "array([[[ 0.28610219, -0.7264868 , -0.50719279,  1.04473795],\n",
              "        [-2.6269445 ,  0.80373735, -3.94639222, -0.11259909],\n",
              "        [-0.271832  , -1.03545502, -0.11481238, -0.80041025]],\n",
              "\n",
              "       [[-0.94959226,  1.11390672, -0.47629241, -1.43499953],\n",
              "        [ 1.01427831,  0.93052177, -0.51619177,  1.99354224],\n",
              "        [-0.68265827,  0.97492243, -0.33173391,  0.0293543 ]]])"
            ]
          },
          "metadata": {},
          "execution_count": 5
        }
      ]
    },
    {
      "cell_type": "code",
      "metadata": {
        "id": "QRatmkx79otL"
      },
      "source": [
        "import matplotlib.pyplot as plt"
      ],
      "execution_count": null,
      "outputs": []
    },
    {
      "cell_type": "code",
      "metadata": {
        "id": "z1oOAB6dShBD",
        "colab": {
          "base_uri": "https://localhost:8080/",
          "height": 775
        },
        "outputId": "db329362-279b-4166-f67a-c2d40d28a0a5"
      },
      "source": [
        "x = np.random.normal(0, 1, 100)\n",
        "print(x)\n",
        "plt.hist(x, bins=10)"
      ],
      "execution_count": null,
      "outputs": [
        {
          "output_type": "stream",
          "name": "stdout",
          "text": [
            "[-1.30410375e+00  2.81304056e-01 -6.68872336e-01 -1.64063589e-01\n",
            " -1.22158374e+00 -1.04653440e+00 -1.60460987e-01  7.24631153e-01\n",
            "  1.66127871e-01 -7.27988751e-01  1.63277291e-01  5.09236054e-01\n",
            " -1.98943416e-01 -1.46600112e+00  3.33479774e-01  1.60454386e-02\n",
            " -8.55730740e-02 -5.11190740e-01 -1.08187184e+00 -1.81470665e+00\n",
            "  9.02654879e-01  2.61542981e+00 -9.61451307e-01 -3.76245505e-01\n",
            "  1.10573440e+00 -2.90233466e-01  9.83471186e-01 -9.17783309e-01\n",
            " -6.85692679e-01  6.80350119e-01  3.02418935e-01 -6.67165338e-01\n",
            " -1.13758564e+00  5.51581315e-01  4.08377252e-01  2.41734447e-01\n",
            " -5.31870253e-01  2.46012558e+00  6.24542625e-02  3.04243491e+00\n",
            "  1.75779308e+00  1.52166416e+00  1.23817111e+00 -7.97803951e-01\n",
            "  3.90696889e-01 -6.19225451e-01  1.42304945e+00 -1.28138928e+00\n",
            "  1.05451851e+00  2.99641058e-01 -7.78909324e-01  2.55184996e-01\n",
            "  1.04213387e+00  4.01985262e+00  4.10956638e-02  9.72650554e-01\n",
            "  4.38663065e-01 -1.24154905e+00  4.68534855e-01  6.32756145e-01\n",
            "  8.42972324e-01 -1.69977165e+00  2.21320141e+00 -9.63472499e-01\n",
            "  6.40706441e-01  1.74025374e+00 -1.57992412e-01 -2.12527110e+00\n",
            " -3.41463121e-01 -5.23844235e-01  5.30544156e-01 -5.80984627e-01\n",
            "  3.95706884e-03 -1.23409175e+00 -6.23110796e-01  8.33769043e-01\n",
            " -1.39568461e+00 -2.23386940e-01  5.97831290e-01 -8.15726743e-02\n",
            "  1.36391643e-01 -6.62688401e-01  4.45915336e-01 -8.10861118e-01\n",
            " -2.91582565e-01  7.36019302e-01  1.59291496e+00 -8.13765805e-01\n",
            " -1.15831445e+00 -3.46717461e-01  5.96119975e-01 -1.09709991e+00\n",
            "  1.25127130e+00 -1.88386233e-01  1.79404880e+00  3.97428197e-01\n",
            "  2.39494165e-01  4.14585331e-01  5.97507814e-01 -3.59018225e-01]\n"
          ]
        },
        {
          "output_type": "execute_result",
          "data": {
            "text/plain": [
              "(array([ 3., 15., 21., 21., 22.,  9.,  4.,  3.,  1.,  1.]),\n",
              " array([-2.1252711 , -1.51075872, -0.89624635, -0.28173398,  0.33277839,\n",
              "         0.94729076,  1.56180314,  2.17631551,  2.79082788,  3.40534025,\n",
              "         4.01985262]),\n",
              " <a list of 10 Patch objects>)"
            ]
          },
          "metadata": {},
          "execution_count": 33
        },
        {
          "output_type": "display_data",
          "data": {
            "image/png": "[encoded data removed]",
            "text/plain": [
              "<Figure size 432x288 with 1 Axes>"
            ]
          },
          "metadata": {
            "needs_background": "light"
          }
        }
      ]
    },
    {
      "cell_type": "markdown",
      "metadata": {
        "id": "G0exvwBbShBE"
      },
      "source": [
        "### generate a sine curve"
      ]
    },
    {
      "cell_type": "code",
      "metadata": {
        "id": "HgQmRXzMShBE",
        "colab": {
          "base_uri": "https://localhost:8080/",
          "height": 245
        },
        "outputId": "77eee739-1091-40d8-f6cb-c5bb26aade5a"
      },
      "source": [
        "plt.figure() #히스토그램 그림을 그려주기 위한 코드\n",
        "\n",
        "theta1 = np.linspace(0, 2*np.pi, 100) #2pi 값이 원래 맞는 건데 여기서는 표기를 2*np.pi로 해줌, 그냥 숫자값임\n",
        "s1 = np.sin(theta1)\n",
        "\n",
        "plt.subplot(2, 1, 1) # (rows, columns, panel number)\n",
        "plt.plot(theta1, s1, '.')\n",
        "#sin 함수는 입력값으로 radian 값을 받아야함"
      ],
      "execution_count": null,
      "outputs": [
        {
          "output_type": "execute_result",
          "data": {
            "text/plain": [
              "[<matplotlib.lines.Line2D at 0x7f06e0d79ea0>]"
            ]
          },
          "metadata": {},
          "execution_count": 8
        },
        {
          "output_type": "display_data",
          "data": {
            "text/plain": [
              "<Figure size 640x480 with 1 Axes>"
            ],
            "image/png": "[encoded data removed]"
          },
          "metadata": {}
        }
      ]
    },
    {
      "cell_type": "code",
      "source": [
        "theta2 = np.linspace(0, 2*np.pi, 100) + np.pi/2\n",
        "s2 = np.sin(theta2) #여전히 100개의 숫자임은 같지만, 90도씩 더해서 옮겨진 상태임\n",
        "\n",
        "plt.subplot(2, 1, 2) # (rows, columns, panel number)\n",
        "plt.plot(theta2, s2, '.')"
      ],
      "metadata": {
        "colab": {
          "base_uri": "https://localhost:8080/",
          "height": 245
        },
        "id": "fP_04Cby5UlY",
        "outputId": "3f517842-6c23-47f7-f9ef-16abf1f3ed63"
      },
      "execution_count": null,
      "outputs": [
        {
          "output_type": "execute_result",
          "data": {
            "text/plain": [
              "[<matplotlib.lines.Line2D at 0x7f06e0f146d0>]"
            ]
          },
          "metadata": {},
          "execution_count": 7
        },
        {
          "output_type": "display_data",
          "data": {
            "text/plain": [
              "<Figure size 640x480 with 1 Axes>"
            ],
            "image/png": "[encoded data removed]"
          },
          "metadata": {}
        }
      ]
    },
    {
      "cell_type": "markdown",
      "source": [
        "아래의 array는\n",
        "S1*S1 | S2*S1\n",
        "S1*S2 | S2*S2\n",
        "끼리 상관분석한 값이라고 생각하면됨 ; 사실상 1|0/0|1 이렇게 나온 형태임\n",
        "\n",
        "따라서 **orthogonal** (1. 90도 2. 완전히 독립적인, 상관관계가 전혀 없는)"
      ],
      "metadata": {
        "id": "T4YKO1um9cBH"
      }
    },
    {
      "cell_type": "code",
      "metadata": {
        "id": "TuH489v9BvQ7",
        "colab": {
          "base_uri": "https://localhost:8080/"
        },
        "outputId": "80f021a2-50ec-4eb5-aed7-4faf9a306496"
      },
      "source": [
        "np.corrcoef(s1,s2)"
      ],
      "execution_count": null,
      "outputs": [
        {
          "output_type": "execute_result",
          "data": {
            "text/plain": [
              "array([[1.00000000e+00, 2.41915449e-17],\n",
              "       [2.41915449e-17, 1.00000000e+00]])"
            ]
          },
          "metadata": {},
          "execution_count": 11
        }
      ]
    },
    {
      "cell_type": "code",
      "source": [
        "import numpy as np\n",
        "\n",
        "# 예시 데이터: 수학 점수와 IQ\n",
        "math_scores = np.array([80, 85, 90, 95, 100])  # 수학 점수\n",
        "iq_scores = np.array([100, 110, 120, 130, 140])  # IQ 점수\n",
        "\n",
        "# 상관 행렬 계산\n",
        "correlation_matrix = np.corrcoef(math_scores, iq_scores)\n",
        "\n",
        "# 상관 계수 출력\n",
        "correlation_coefficient = correlation_matrix[0, 1]\n",
        "print(\"상관 계수:\", correlation_coefficient)\n"
      ],
      "metadata": {
        "colab": {
          "base_uri": "https://localhost:8080/"
        },
        "id": "pyELyTms8vD0",
        "outputId": "a2bbf283-7f16-4f0f-de6e-a4102181c274"
      },
      "execution_count": null,
      "outputs": [
        {
          "output_type": "stream",
          "name": "stdout",
          "text": [
            "상관 계수: 1.0\n"
          ]
        }
      ]
    }
  ]
}